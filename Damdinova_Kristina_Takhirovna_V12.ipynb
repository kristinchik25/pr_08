{
  "cells": [
    {
      "cell_type": "markdown",
      "id": "e7551730",
      "metadata": {},
      "source": [
        "## Подготовка к выполнению индивидуальных заданий"
      ]
    },
    {
      "cell_type": "code",
      "execution_count": 1,
      "id": "djIO9vieabTm",
      "metadata": {
        "id": "djIO9vieabTm"
      },
      "outputs": [
        {
          "name": "stdout",
          "output_type": "stream",
          "text": [
            "Collecting psycopg2-binary\n",
            "  Downloading psycopg2_binary-2.9.10-cp312-cp312-win_amd64.whl.metadata (5.0 kB)\n",
            "Requirement already satisfied: pandas in d:\\users\\damdi\\anaconda3\\lib\\site-packages (2.2.2)\n",
            "Requirement already satisfied: sqlalchemy in d:\\users\\damdi\\anaconda3\\lib\\site-packages (2.0.34)\n",
            "Requirement already satisfied: matplotlib in d:\\users\\damdi\\anaconda3\\lib\\site-packages (3.9.2)\n",
            "Requirement already satisfied: numpy in d:\\users\\damdi\\anaconda3\\lib\\site-packages (1.26.4)\n",
            "Requirement already satisfied: python-dateutil>=2.8.2 in c:\\users\\damdi\\appdata\\roaming\\python\\python312\\site-packages (from pandas) (2.9.0.post0)\n",
            "Requirement already satisfied: pytz>=2020.1 in d:\\users\\damdi\\anaconda3\\lib\\site-packages (from pandas) (2024.1)\n",
            "Requirement already satisfied: tzdata>=2022.7 in d:\\users\\damdi\\anaconda3\\lib\\site-packages (from pandas) (2023.3)\n",
            "Requirement already satisfied: typing-extensions>=4.6.0 in d:\\users\\damdi\\anaconda3\\lib\\site-packages (from sqlalchemy) (4.11.0)\n",
            "Requirement already satisfied: greenlet!=0.4.17 in d:\\users\\damdi\\anaconda3\\lib\\site-packages (from sqlalchemy) (3.0.1)\n",
            "Requirement already satisfied: contourpy>=1.0.1 in d:\\users\\damdi\\anaconda3\\lib\\site-packages (from matplotlib) (1.2.0)\n",
            "Requirement already satisfied: cycler>=0.10 in d:\\users\\damdi\\anaconda3\\lib\\site-packages (from matplotlib) (0.11.0)\n",
            "Requirement already satisfied: fonttools>=4.22.0 in d:\\users\\damdi\\anaconda3\\lib\\site-packages (from matplotlib) (4.51.0)\n",
            "Requirement already satisfied: kiwisolver>=1.3.1 in d:\\users\\damdi\\anaconda3\\lib\\site-packages (from matplotlib) (1.4.4)\n",
            "Requirement already satisfied: packaging>=20.0 in c:\\users\\damdi\\appdata\\roaming\\python\\python312\\site-packages (from matplotlib) (24.2)\n",
            "Requirement already satisfied: pillow>=8 in d:\\users\\damdi\\anaconda3\\lib\\site-packages (from matplotlib) (10.4.0)\n",
            "Requirement already satisfied: pyparsing>=2.3.1 in d:\\users\\damdi\\anaconda3\\lib\\site-packages (from matplotlib) (3.1.2)\n",
            "Requirement already satisfied: six>=1.5 in c:\\users\\damdi\\appdata\\roaming\\python\\python312\\site-packages (from python-dateutil>=2.8.2->pandas) (1.17.0)\n",
            "Downloading psycopg2_binary-2.9.10-cp312-cp312-win_amd64.whl (1.2 MB)\n",
            "   ---------------------------------------- 0.0/1.2 MB ? eta -:--:--\n",
            "   ---------------------------------------- 0.0/1.2 MB ? eta -:--:--\n",
            "   ---------------------------------------- 0.0/1.2 MB ? eta -:--:--\n",
            "   ---------------------------------------- 0.0/1.2 MB ? eta -:--:--\n",
            "   ---------------------------------------- 0.0/1.2 MB ? eta -:--:--\n",
            "   ---------------------------------------- 0.0/1.2 MB ? eta -:--:--\n",
            "   ---------------------------------------- 0.0/1.2 MB ? eta -:--:--\n",
            "   ---------------------------------------- 0.0/1.2 MB ? eta -:--:--\n",
            "   ---------------------------------------- 0.0/1.2 MB ? eta -:--:--\n",
            "   ---------------------------------------- 0.0/1.2 MB ? eta -:--:--\n",
            "   --------- ------------------------------ 0.3/1.2 MB ? eta -:--:--\n",
            "   --------- ------------------------------ 0.3/1.2 MB ? eta -:--:--\n",
            "   --------- ------------------------------ 0.3/1.2 MB ? eta -:--:--\n",
            "   --------- ------------------------------ 0.3/1.2 MB ? eta -:--:--\n",
            "   --------- ------------------------------ 0.3/1.2 MB ? eta -:--:--\n",
            "   --------- ------------------------------ 0.3/1.2 MB ? eta -:--:--\n",
            "   --------- ------------------------------ 0.3/1.2 MB ? eta -:--:--\n",
            "   --------- ------------------------------ 0.3/1.2 MB ? eta -:--:--\n",
            "   --------- ------------------------------ 0.3/1.2 MB ? eta -:--:--\n",
            "   --------- ------------------------------ 0.3/1.2 MB ? eta -:--:--\n",
            "   --------- ------------------------------ 0.3/1.2 MB ? eta -:--:--\n",
            "   ------------------ --------------------- 0.5/1.2 MB 108.2 kB/s eta 0:00:06\n",
            "   ------------------ --------------------- 0.5/1.2 MB 108.2 kB/s eta 0:00:06\n",
            "   ------------------ --------------------- 0.5/1.2 MB 108.2 kB/s eta 0:00:06\n",
            "   ------------------ --------------------- 0.5/1.2 MB 108.2 kB/s eta 0:00:06\n",
            "   ------------------ --------------------- 0.5/1.2 MB 108.2 kB/s eta 0:00:06\n",
            "   ------------------ --------------------- 0.5/1.2 MB 108.2 kB/s eta 0:00:06\n",
            "   ------------------ --------------------- 0.5/1.2 MB 108.2 kB/s eta 0:00:06\n",
            "   ------------------ --------------------- 0.5/1.2 MB 108.2 kB/s eta 0:00:06\n",
            "   ------------------ --------------------- 0.5/1.2 MB 108.2 kB/s eta 0:00:06\n",
            "   ------------------ --------------------- 0.5/1.2 MB 108.2 kB/s eta 0:00:06\n",
            "   ------------------ --------------------- 0.5/1.2 MB 108.2 kB/s eta 0:00:06\n",
            "   --------------------------- ------------ 0.8/1.2 MB 112.6 kB/s eta 0:00:04\n",
            "   --------------------------- ------------ 0.8/1.2 MB 112.6 kB/s eta 0:00:04\n",
            "   --------------------------- ------------ 0.8/1.2 MB 112.6 kB/s eta 0:00:04\n",
            "   --------------------------- ------------ 0.8/1.2 MB 112.6 kB/s eta 0:00:04\n",
            "   --------------------------- ------------ 0.8/1.2 MB 112.6 kB/s eta 0:00:04\n",
            "   --------------------------- ------------ 0.8/1.2 MB 112.6 kB/s eta 0:00:04\n",
            "   --------------------------- ------------ 0.8/1.2 MB 112.6 kB/s eta 0:00:04\n",
            "   --------------------------- ------------ 0.8/1.2 MB 112.6 kB/s eta 0:00:04\n",
            "   --------------------------- ------------ 0.8/1.2 MB 112.6 kB/s eta 0:00:04\n",
            "   --------------------------- ------------ 0.8/1.2 MB 112.6 kB/s eta 0:00:04\n",
            "   ------------------------------------ --- 1.0/1.2 MB 117.9 kB/s eta 0:00:01\n",
            "   ------------------------------------ --- 1.0/1.2 MB 117.9 kB/s eta 0:00:01\n",
            "   ------------------------------------ --- 1.0/1.2 MB 117.9 kB/s eta 0:00:01\n",
            "   ------------------------------------ --- 1.0/1.2 MB 117.9 kB/s eta 0:00:01\n",
            "   ------------------------------------ --- 1.0/1.2 MB 117.9 kB/s eta 0:00:01\n",
            "   ------------------------------------ --- 1.0/1.2 MB 117.9 kB/s eta 0:00:01\n",
            "   ---------------------------------------- 1.2/1.2 MB 112.1 kB/s eta 0:00:00\n",
            "Installing collected packages: psycopg2-binary\n",
            "Successfully installed psycopg2-binary-2.9.10\n",
            "Note: you may need to restart the kernel to use updated packages.\n"
          ]
        }
      ],
      "source": [
        "%pip install psycopg2-binary pandas sqlalchemy matplotlib numpy"
      ]
    },
    {
      "cell_type": "code",
      "execution_count": 3,
      "id": "1661b68c-5297-46fe-901c-d61687d65893",
      "metadata": {
        "id": "1661b68c-5297-46fe-901c-d61687d65893"
      },
      "outputs": [],
      "source": [
        "import psycopg2\n",
        "from psycopg2 import Error\n",
        "from psycopg2 import extras # For execute_values\n",
        "import pandas as pd\n",
        "from sqlalchemy import create_engine\n",
        "import io # For StringIO\n",
        "import time\n",
        "import matplotlib.pyplot as plt\n",
        "import numpy as np\n",
        "import os # To check file existence\n"
      ]
    },
    {
      "cell_type": "code",
      "execution_count": 4,
      "id": "NT1J6CDLaxPp",
      "metadata": {
        "colab": {
          "base_uri": "https://localhost:8080/",
          "height": 71
        },
        "id": "NT1J6CDLaxPp",
        "outputId": "bee7d845-bacc-4dd3-a79e-a7fa723e32c0"
      },
      "outputs": [],
      "source": [
        "big_csv_path:r'\"C:\\Users\\damdi\\Desktop\\уник\\Практикум sql\\8пр\\upload_test_data_big.csv\"'"
      ]
    },
    {
      "cell_type": "code",
      "execution_count": 5,
      "id": "tY_yy8Nfa0uc",
      "metadata": {
        "colab": {
          "base_uri": "https://localhost:8080/",
          "height": 71
        },
        "id": "tY_yy8Nfa0uc",
        "outputId": "dfe59747-4151-49c6-91ca-7a4e152f0c72"
      },
      "outputs": [],
      "source": [
        "small_csv_path:r'\"C:\\Users\\damdi\\Desktop\\уник\\Практикум sql\\8пр\\upload_test_data.csv\"'"
      ]
    },
    {
      "cell_type": "code",
      "execution_count": 6,
      "id": "vwfKc-DVLXrw",
      "metadata": {
        "id": "vwfKc-DVLXrw"
      },
      "outputs": [
        {
          "name": "stdout",
          "output_type": "stream",
          "text": [
            " ��� � ���ன�⢥ C ����� ���� Windows\n",
            " ��਩�� ����� ⮬�: E284-7F13\n",
            "\n",
            " ����ন��� ����� c:\\Users\\damdi\\Desktop\\㭨�\\�ࠪ⨪� sql\\8��\n",
            "\n",
            "27.04.2025  22:37    <DIR>          .\n",
            "27.04.2025  16:07    <DIR>          ..\n",
            "27.04.2025  22:37           115�666 Damdinova_Kristina_Takhirovna_Tasks.ipynb\n",
            "26.04.2025  13:55           133�072 lecture8_student.ipynb\n",
            "               2 䠩���        248�738 ����\n",
            "               2 �����  28�453�687�296 ���� ᢮�����\n"
          ]
        }
      ],
      "source": [
        "%ls"
      ]
    },
    {
      "cell_type": "code",
      "execution_count": 7,
      "id": "Yh_PVEybaJnK",
      "metadata": {
        "id": "Yh_PVEybaJnK"
      },
      "outputs": [
        {
          "name": "stdout",
          "output_type": "stream",
          "text": [
            "Libraries installed and imported successfully.\n"
          ]
        }
      ],
      "source": [
        "\n",
        "# @markdown Установка и импорт необходимых библиотек.\n",
        "\n",
        "\n",
        "print(\"Libraries installed and imported successfully.\")\n",
        "\n",
        "# Database connection details (replace with your actual credentials if different)\n",
        "DB_USER = \"postgres\"\n",
        "DB_PASSWORD = \"1\"\n",
        "DB_HOST = \"localhost\"\n",
        "DB_PORT = \"5432\"\n",
        "DB_NAME = \"lect_08_bda_big_data\"\n",
        "\n",
        "# CSV File Paths (Ensure these files are uploaded to your Colab environment)\n",
        "small_csv_path = 'upload_test_data.csv'\n",
        "big_csv_path = 'upload_test_data_big.csv' # Corrected filename\n",
        "\n",
        "# Table name in PostgreSQL\n",
        "table_name = 'sales_data'"
      ]
    },
    {
      "cell_type": "markdown",
      "id": "833ffaa7",
      "metadata": {},
      "source": [
        "# Выполнение индивидуальных заданий"
      ]
    },
    {
      "cell_type": "code",
      "execution_count": null,
      "id": "8c80b70f",
      "metadata": {},
      "outputs": [
        {
          "name": "stdout",
          "output_type": "stream",
          "text": [
            "Успешное подключение к PostgreSQL\n",
            "--- Запуск Варианта 12  ---\n",
            "\n",
            "--- Задание 1. Создание таблиц sales_small, sales_big---\n",
            "Таблица sales_small успешно создана или уже существует\n",
            "Таблица sales_big успешно создана или уже существует\n",
            "\n",
            "--- Задание 2: Загрузка данных из 'C:\\Users\\damdi\\Desktop\\уник\\Практикум sql\\data\\upload_test_data.csv' в 'sales_small' ---\n",
            "Данные успешно загружены в таблицу 'sales_small'.\n",
            "\n",
            "--- Задание 3: Загрузка данных из 'C:\\Users\\damdi\\Desktop\\уник\\Практикум sql\\data\\upload_test_data_big.csv' в 'sales_big' (метод file) ---\n",
            "Данные из C:\\Users\\damdi\\Desktop\\уник\\Практикум sql\\data\\upload_test_data_big.csv успешно загружены в sales_big\n",
            "\n",
            "--- Задача: Выбрать первые 15 записей из sales_big, отсортированных по cost (ASC) ---\n",
            "Данные успешно загружены:\n",
            "       id  quantity  cost  total_revenue\n",
            "0   21194        14   0.0            0.0\n",
            "1   24484         4   0.0            0.0\n",
            "2   13614         6   0.0            0.0\n",
            "3   14603         2   0.0            0.0\n",
            "4   23857        22   0.0            0.0\n",
            "5   24102        18   0.0            0.0\n",
            "6   10624        28   0.0            0.0\n",
            "7   12578        30   0.0            0.0\n",
            "8    7974        17   0.0            0.0\n",
            "9    6318         9   0.0            0.0\n",
            "10   9181        12   0.0            0.0\n",
            "11  22672         8   0.0            0.0\n",
            "12   8956        42   0.0            0.0\n",
            "13   8489         7   0.0            0.0\n",
            "14  33398         3   0.0            0.0\n",
            "\n",
            "Соединение с базой данных закрыто.\n"
          ]
        },
        {
          "name": "stderr",
          "output_type": "stream",
          "text": [
            "C:\\Users\\damdi\\AppData\\Local\\Temp\\ipykernel_19780\\301359778.py:81: UserWarning: pandas only supports SQLAlchemy connectable (engine/connection) or database string URI or sqlite3 DBAPI2 connection. Other DBAPI2 objects are not tested. Please consider using SQLAlchemy.\n",
            "  return pd.read_sql(query, connection)\n"
          ]
        }
      ],
      "source": [
        "import psycopg2\n",
        "import pandas as pd\n",
        "import matplotlib.pyplot as plt\n",
        "import os\n",
        "from io import StringIO\n",
        "\n",
        "# --- Константы для подключения к PostgreSQL ---\n",
        "DB_USER = \"postgres\"\n",
        "DB_PASSWORD = \"1\"\n",
        "DB_HOST = \"localhost\"\n",
        "DB_PORT = \"5432\"\n",
        "DB_NAME = \"lect_08_bda_big_data\"       \n",
        "\n",
        "# Определение констант\n",
        "small_table_name = 'sales_small'\n",
        "big_table_name = 'sales_big'\n",
        "small_csv_path = r'C:\\Users\\damdi\\Desktop\\уник\\Практикум sql\\data\\upload_test_data.csv'  \n",
        "big_csv_path = r'C:\\Users\\damdi\\Desktop\\уник\\Практикум sql\\data\\upload_test_data_big.csv'\n",
        "\n",
        "# Подключение к БД\n",
        "def connect_db():\n",
        "    try:\n",
        "        connection = psycopg2.connect(\n",
        "            dbname=DB_NAME,\n",
        "            user=DB_USER,\n",
        "            password=DB_PASSWORD,\n",
        "            host=DB_HOST,\n",
        "            port=DB_PORT\n",
        "        )\n",
        "        cursor = connection.cursor()\n",
        "        print(\"Успешное подключение к PostgreSQL\")\n",
        "        return connection, cursor\n",
        "    except Exception as e:\n",
        "        print(f\"Ошибка подключения к PostgreSQL: {e}\")\n",
        "        return None, None\n",
        "\n",
        "# Функция для создания таблицы\n",
        "def create_table(table_name):\n",
        "    try:\n",
        "        cursor.execute(f\"\"\"\n",
        "        CREATE TABLE {table_name} (\n",
        "            id INTEGER PRIMARY KEY,\n",
        "            quantity INTEGER,\n",
        "            cost NUMERIC(10, 2),\n",
        "            total_revenue NUMERIC(12, 2)\n",
        "        );\n",
        "        \"\"\")\n",
        "        connection.commit()\n",
        "        print(f\"Таблица {table_name} успешно создана или уже существует\")\n",
        "    except Exception as e:\n",
        "        print(f\"Ошибка при создании таблицы {table_name}: {e}\")\n",
        "\n",
        "# Функция для загрузки данных из файла\n",
        "def load_via_copy_file(file_path, table_name):\n",
        "    try:\n",
        "        with open(file_path, 'r') as f:\n",
        "            cursor.copy_expert(f\"\"\"\n",
        "            COPY {table_name}(id, quantity, cost, total_revenue) \n",
        "            FROM STDIN WITH CSV HEADER DELIMITER ','\n",
        "            \"\"\", f)\n",
        "        connection.commit()\n",
        "        print(f\"Данные из {file_path} успешно загружены в {table_name}\")\n",
        "    except Exception as e:\n",
        "        print(f\"Ошибка при загрузке данных в {table_name}: {e}\")\n",
        "\n",
        "# Функция для выполнения SQL запросов\n",
        "def execute_sql(query, fetch=False):\n",
        "    try:\n",
        "        cursor.execute(query)\n",
        "        connection.commit()\n",
        "        if fetch:\n",
        "            return cursor.fetchall()\n",
        "        return True\n",
        "    except Exception as e:\n",
        "        print(f\"Ошибка выполнения SQL запроса: {e}\")\n",
        "        return None\n",
        "\n",
        "# Функция для загрузки данных в DataFrame\n",
        "def load_df_from_sql(query):\n",
        "    try:\n",
        "        return pd.read_sql(query, connection)\n",
        "    except Exception as e:\n",
        "        print(f\"Ошибка загрузки данных в DataFrame: {e}\")\n",
        "        return None\n",
        "\n",
        "\n",
        "connection, cursor = connect_db()\n",
        "\n",
        "if not connection or not cursor:\n",
        "    print(\"Подключение к базе данных неактивно. Пожалуйста, проверьте параметры подключения.\")\n",
        "else:\n",
        "    print(\"--- Запуск Варианта 12  ---\")\n",
        "\n",
        "    #  Задание 1. Настройка таблиц. Создать таблицы sales_small, sales_big.\n",
        "    print(\"\\n--- Задание 1. Создание таблиц sales_small, sales_big---\")\n",
        "    create_table(small_table_name)\n",
        "    create_table(big_table_name)\n",
        "\n",
        "\n",
        "    # Задание 2. Загрузка малых данных методом copy_expert (StringIO)\n",
        "    print(f\"\\n--- Задание 2: Загрузка данных из '{small_csv_path}' в '{small_table_name}' ---\")\n",
        "    if os.path.exists(small_csv_path):\n",
        "        load_via_copy_stringio(small_csv_path, small_table_name)\n",
        "    else:\n",
        "        print(f\"ОШИБКА: Файл '{small_csv_path}' не найден.\")\n",
        "\n",
        "\n",
        "    # Задание 3. Загрузка больших данных методом copy_expert (file)\n",
        "    print(f\"\\n--- Задание 3: Загрузка данных из '{big_csv_path}' в '{big_table_name}' (метод file) ---\")\n",
        "    if os.path.exists(big_csv_path):\n",
        "        load_via_copy_file(big_csv_path, big_table_name)\n",
        "    else:\n",
        "        print(f\"ОШИБКА: Файл '{big_csv_path}' не найден. Загрузка не выполнена.\")\n",
        "\n",
        "    # Задание 4. SQL-запрос для выбора первых 15 записей из sales_big, отсортированных по cost (ASC)\n",
        "query = \"\"\"\n",
        "SELECT *\n",
        "FROM sales_big\n",
        "ORDER BY cost ASC\n",
        "LIMIT 15;\n",
        "\"\"\"\n",
        "print(\"\\n--- Задание 4: Выбрать первые 15 записей из sales_big, отсортированных по cost (ASC) ---\")\n",
        "df = load_df_from_sql(query)\n",
        "\n",
        "# Проверяем результат\n",
        "if df is not None and not df.empty:\n",
        "    print(\"Данные успешно загружены:\")\n",
        "    print(df)\n",
        "else:\n",
        "    print(\"Не удалось загрузить данные.\")\n",
        "\n",
        "\n",
        "    # Закрытие соединения\n",
        "    if cursor:\n",
        "        cursor.close()\n",
        "        if connection:\n",
        "             connection.close()\n",
        "print(\"\\nСоединение с базой данных закрыто.\")"
      ]
    }
  ],
  "metadata": {
    "colab": {
      "provenance": []
    },
    "kernelspec": {
      "display_name": "base",
      "language": "python",
      "name": "python3"
    },
    "language_info": {
      "codemirror_mode": {
        "name": "ipython",
        "version": 3
      },
      "file_extension": ".py",
      "mimetype": "text/x-python",
      "name": "python",
      "nbconvert_exporter": "python",
      "pygments_lexer": "ipython3",
      "version": "3.12.7"
    }
  },
  "nbformat": 4,
  "nbformat_minor": 5
}
